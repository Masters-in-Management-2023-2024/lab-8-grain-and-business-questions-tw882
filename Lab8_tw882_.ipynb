{
  "nbformat": 4,
  "nbformat_minor": 0,
  "metadata": {
    "colab": {
      "provenance": []
    },
    "kernelspec": {
      "name": "python3",
      "display_name": "Python 3"
    },
    "language_info": {
      "name": "python"
    }
  },
  "cells": [
    {
      "cell_type": "code",
      "execution_count": 1,
      "metadata": {
        "colab": {
          "base_uri": "https://localhost:8080/"
        },
        "id": "dSQkJ4JXzunO",
        "outputId": "ae1bc87d-8d2e-4d0b-c2a1-50f86c9b699f"
      },
      "outputs": [
        {
          "output_type": "stream",
          "name": "stdout",
          "text": [
            "Loading diamonds dataset...\n",
            "Dataset loaded successfully!\n"
          ]
        }
      ],
      "source": [
        "import polars as pl\n",
        "\n",
        "# Load the diamonds dataset\n",
        "print(\"Loading diamonds dataset...\")\n",
        "df = pl.read_csv('https://raw.githubusercontent.com/pycaret/pycaret/master/datasets/diamond.csv')\n",
        "print(\"Dataset loaded successfully!\")"
      ]
    },
    {
      "cell_type": "code",
      "source": [
        "# Question 1: The CEO needs to know the scale of data you're analyzing.\n",
        "\n",
        "print(\"The scale of the data is:\")\n",
        "print(df.describe())\n",
        "\n"
      ],
      "metadata": {
        "colab": {
          "base_uri": "https://localhost:8080/"
        },
        "id": "nw6As9Ln1r8r",
        "outputId": "c99fa076-97e4-4294-f2e3-6bc4d09b00cf"
      },
      "execution_count": 2,
      "outputs": [
        {
          "output_type": "stream",
          "name": "stdout",
          "text": [
            "The scale of the data is:\n",
            "shape: (9, 9)\n",
            "┌────────────┬──────────────┬───────────┬───────┬───┬────────┬──────────┬────────┬──────────────┐\n",
            "│ statistic  ┆ Carat Weight ┆ Cut       ┆ Color ┆ … ┆ Polish ┆ Symmetry ┆ Report ┆ Price        │\n",
            "│ ---        ┆ ---          ┆ ---       ┆ ---   ┆   ┆ ---    ┆ ---      ┆ ---    ┆ ---          │\n",
            "│ str        ┆ f64          ┆ str       ┆ str   ┆   ┆ str    ┆ str      ┆ str    ┆ f64          │\n",
            "╞════════════╪══════════════╪═══════════╪═══════╪═══╪════════╪══════════╪════════╪══════════════╡\n",
            "│ count      ┆ 6000.0       ┆ 6000      ┆ 6000  ┆ … ┆ 6000   ┆ 6000     ┆ 6000   ┆ 6000.0       │\n",
            "│ null_count ┆ 0.0          ┆ 0         ┆ 0     ┆ … ┆ 0      ┆ 0        ┆ 0      ┆ 0.0          │\n",
            "│ mean       ┆ 1.33452      ┆ null      ┆ null  ┆ … ┆ null   ┆ null     ┆ null   ┆ 11791.579333 │\n",
            "│ std        ┆ 0.475696     ┆ null      ┆ null  ┆ … ┆ null   ┆ null     ┆ null   ┆ 10184.350051 │\n",
            "│ min        ┆ 0.75         ┆ Fair      ┆ D     ┆ … ┆ EX     ┆ EX       ┆ AGSL   ┆ 2184.0       │\n",
            "│ 25%        ┆ 1.0          ┆ null      ┆ null  ┆ … ┆ null   ┆ null     ┆ null   ┆ 5151.0       │\n",
            "│ 50%        ┆ 1.13         ┆ null      ┆ null  ┆ … ┆ null   ┆ null     ┆ null   ┆ 7858.0       │\n",
            "│ 75%        ┆ 1.59         ┆ null      ┆ null  ┆ … ┆ null   ┆ null     ┆ null   ┆ 15031.0      │\n",
            "│ max        ┆ 2.91         ┆ Very Good ┆ I     ┆ … ┆ VG     ┆ VG       ┆ GIA    ┆ 101561.0     │\n",
            "└────────────┴──────────────┴───────────┴───────┴───┴────────┴──────────┴────────┴──────────────┘\n"
          ]
        }
      ]
    },
    {
      "cell_type": "code",
      "source": [
        "# Question 2: List all the characteristics we record.\n",
        "\n",
        "print(\"The characteristics we record are:\")\n",
        "print(df.columns)"
      ],
      "metadata": {
        "id": "5h8HnmFo2_AM"
      },
      "execution_count": null,
      "outputs": []
    },
    {
      "cell_type": "code",
      "source": [
        "# Question 3:\n",
        "\n",
        "print(\"Each row represents:\")\n",
        "print(df.head(1))"
      ],
      "metadata": {
        "colab": {
          "base_uri": "https://localhost:8080/"
        },
        "id": "T72hkMT33D9e",
        "outputId": "6ddc8adb-581b-4937-c100-7d3668719372"
      },
      "execution_count": 3,
      "outputs": [
        {
          "output_type": "stream",
          "name": "stdout",
          "text": [
            "Each row represents:\n",
            "shape: (1, 8)\n",
            "┌──────────────┬───────┬───────┬─────────┬────────┬──────────┬────────┬───────┐\n",
            "│ Carat Weight ┆ Cut   ┆ Color ┆ Clarity ┆ Polish ┆ Symmetry ┆ Report ┆ Price │\n",
            "│ ---          ┆ ---   ┆ ---   ┆ ---     ┆ ---    ┆ ---      ┆ ---    ┆ ---   │\n",
            "│ f64          ┆ str   ┆ str   ┆ str     ┆ str    ┆ str      ┆ str    ┆ i64   │\n",
            "╞══════════════╪═══════╪═══════╪═════════╪════════╪══════════╪════════╪═══════╡\n",
            "│ 1.1          ┆ Ideal ┆ H     ┆ SI1     ┆ VG     ┆ EX       ┆ GIA    ┆ 5169  │\n",
            "└──────────────┴───────┴───────┴─────────┴────────┴──────────┴────────┴───────┘\n"
          ]
        }
      ]
    },
    {
      "cell_type": "code",
      "source": [
        "# Question 4\n",
        "total_carat_weight = df['Carat Weight'].sum()\n",
        "print(f\"Total carat weight in inventory: {total_carat_weight:.2f} carats\")"
      ],
      "metadata": {
        "colab": {
          "base_uri": "https://localhost:8080/"
        },
        "id": "qWTvXuT55CUU",
        "outputId": "32974a1a-feda-43f0-d82f-119f0773d34f"
      },
      "execution_count": 4,
      "outputs": [
        {
          "output_type": "stream",
          "name": "stdout",
          "text": [
            "Total carat weight in inventory: 8007.12 carats\n"
          ]
        }
      ]
    },
    {
      "cell_type": "code",
      "source": [
        "# Question 5\n",
        "print(\"The variety of cuts in the inventory is:\")\n",
        "unique_cuts = df['Cut'].unique()\n",
        "print(unique_cuts)\n",
        "print(f\"\\nNumber of unique cuts: {len(unique_cuts)}\")"
      ],
      "metadata": {
        "id": "IzXT7ncF5RL-"
      },
      "execution_count": null,
      "outputs": []
    },
    {
      "cell_type": "code",
      "source": [
        "# Question 6\n",
        "min_price = df['Price'].min()\n",
        "max_price = df['Price'].max()\n",
        "\n",
        "print(f\"Least valuable diamond price: ${min_price:.2f}\")\n",
        "print(f\"Most valuable diamond price: ${max_price:.2f}\")"
      ],
      "metadata": {
        "id": "CK-mXCiO5vDy"
      },
      "execution_count": null,
      "outputs": []
    },
    {
      "cell_type": "code",
      "source": [
        "# Question 7\n",
        "print(\"Typical prices across color grades:\")\n",
        "average_price_by_color = df.group_by('Color').agg(pl.mean('Price')).sort('Color')\n",
        "print(average_price_by_color)\n"
      ],
      "metadata": {
        "id": "BLswSEtN56Fk"
      },
      "execution_count": null,
      "outputs": []
    },
    {
      "cell_type": "code",
      "source": [
        "# Question 8\n",
        "print(\"Inventory breakdown by clarity grade:\")\n",
        "clarity_breakdown = df.group_by('Clarity').agg([\n",
        "    pl.count().alias(\"Number of Diamonds\"),\n",
        "    pl.mean('Price').alias(\"Typical Price\"),\n",
        "    pl.sum('Carat Weight').alias(\"Total Carats\")\n",
        "]).sort('Clarity')\n",
        "\n",
        "print(clarity_breakdown)"
      ],
      "metadata": {
        "id": "Dq1aHODA6dVX"
      },
      "execution_count": null,
      "outputs": []
    },
    {
      "cell_type": "code",
      "source": [
        "# Question 9\n",
        "print(\"Pricing structure across cut-color combinations:\")\n",
        "pricing_by_cut_color = df.group_by(['Cut', 'Color']).agg(pl.mean('Price')).sort(['Cut', 'Color'])\n",
        "print(pricing_by_cut_color)"
      ],
      "metadata": {
        "colab": {
          "base_uri": "https://localhost:8080/"
        },
        "id": "Pf6BgBmb61dr",
        "outputId": "b402e520-48c7-40c9-8b97-46cb46652c48"
      },
      "execution_count": 5,
      "outputs": [
        {
          "output_type": "stream",
          "name": "stdout",
          "text": [
            "Pricing structure across cut-color combinations:\n",
            "shape: (30, 3)\n",
            "┌───────────┬───────┬──────────────┐\n",
            "│ Cut       ┆ Color ┆ Price        │\n",
            "│ ---       ┆ ---   ┆ ---          │\n",
            "│ str       ┆ str   ┆ f64          │\n",
            "╞═══════════╪═══════╪══════════════╡\n",
            "│ Fair      ┆ D     ┆ 6058.25      │\n",
            "│ Fair      ┆ E     ┆ 5370.625     │\n",
            "│ Fair      ┆ F     ┆ 6063.625     │\n",
            "│ Fair      ┆ G     ┆ 7345.52381   │\n",
            "│ Fair      ┆ H     ┆ 5908.5       │\n",
            "│ …         ┆ …     ┆ …            │\n",
            "│ Very Good ┆ E     ┆ 12101.910217 │\n",
            "│ Very Good ┆ F     ┆ 12413.905495 │\n",
            "│ Very Good ┆ G     ┆ 12354.013841 │\n",
            "│ Very Good ┆ H     ┆ 10056.106132 │\n",
            "│ Very Good ┆ I     ┆ 8930.031332  │\n",
            "└───────────┴───────┴──────────────┘\n"
          ]
        }
      ]
    },
    {
      "cell_type": "code",
      "source": [
        "# Question 10\n",
        "print(\"Top 5 most valuable inventory segments by color-cut combination:\")\n",
        "top_5_valuable_segments = df.group_by(['Color', 'Cut']).agg([\n",
        "    pl.sum('Price').alias(\"Total Value\"),\n",
        "    pl.len().alias(\"Number of Diamonds\")\n",
        "]).sort(\"Total Value\", descending=True).head(5)\n",
        "\n",
        "print(top_5_valuable_segments)"
      ],
      "metadata": {
        "colab": {
          "base_uri": "https://localhost:8080/"
        },
        "id": "-myIZDiq7Rhe",
        "outputId": "157a09b0-c263-4389-e6dc-7af4c0ae6ac9"
      },
      "execution_count": 7,
      "outputs": [
        {
          "output_type": "stream",
          "name": "stdout",
          "text": [
            "Top 5 most valuable inventory segments by color-cut combination:\n",
            "shape: (5, 4)\n",
            "┌───────┬───────────┬─────────────┬────────────────────┐\n",
            "│ Color ┆ Cut       ┆ Total Value ┆ Number of Diamonds │\n",
            "│ ---   ┆ ---       ┆ ---         ┆ ---                │\n",
            "│ str   ┆ str       ┆ i64         ┆ u32                │\n",
            "╞═══════╪═══════════╪═════════════╪════════════════════╡\n",
            "│ G     ┆ Ideal     ┆ 9363514     ┆ 690                │\n",
            "│ G     ┆ Very Good ┆ 7140620     ┆ 578                │\n",
            "│ F     ┆ Very Good ┆ 5648327     ┆ 455                │\n",
            "│ F     ┆ Ideal     ┆ 5346782     ┆ 363                │\n",
            "│ H     ┆ Ideal     ┆ 5279687     ┆ 458                │\n",
            "└───────┴───────────┴─────────────┴────────────────────┘\n"
          ]
        }
      ]
    },
    {
      "cell_type": "markdown",
      "source": [],
      "metadata": {
        "id": "_r106cdr7LtW"
      }
    }
  ]
}